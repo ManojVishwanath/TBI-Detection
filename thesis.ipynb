{
 "cells": [
  {
   "cell_type": "markdown",
   "id": "cc169dc4",
   "metadata": {
    "id": "cc169dc4"
   },
   "source": [
    "# Import lib"
   ]
  },
  {
   "cell_type": "code",
   "execution_count": 1,
   "id": "a6067fb1",
   "metadata": {
    "id": "a6067fb1",
    "scrolled": true
   },
   "outputs": [],
   "source": [
    "import os\n",
    "import pandas as pd\n",
    "import numpy as np\n",
    "import pickle\n",
    "from scipy.linalg import sqrtm,logm\n",
    "import seaborn as sns\n",
    "#%matplotlib widget\n",
    "#%matplotlib notebook\n",
    "import warnings\n",
    "warnings.filterwarnings(\"ignore\")\n",
    "from sklearn.feature_selection import SelectFromModel\n",
    "from sklearn.model_selection import train_test_split\n",
    "#from sklearn_extra.cluster import KMedoids\n",
    "from sklearn.metrics import classification_report\n",
    "#!pip install scikit-learn-extra\n",
    "#from sklearn_extra.cluster import KMedoids\n",
    "import matplotlib.pyplot as plt\n"
   ]
  },
  {
   "cell_type": "code",
   "execution_count": 2,
   "id": "89281534",
   "metadata": {},
   "outputs": [
    {
     "name": "stdout",
     "output_type": "stream",
     "text": [
      "Requirement already satisfied: scikit-learn-extra in c:\\users\\souha\\anaconda3\\lib\\site-packages (0.2.0)\n",
      "Requirement already satisfied: numpy>=1.13.3 in c:\\users\\souha\\anaconda3\\lib\\site-packages (from scikit-learn-extra) (1.20.1)\n",
      "Requirement already satisfied: scipy>=0.19.1 in c:\\users\\souha\\anaconda3\\lib\\site-packages (from scikit-learn-extra) (1.6.2)\n",
      "Requirement already satisfied: scikit-learn>=0.23.0 in c:\\users\\souha\\anaconda3\\lib\\site-packages (from scikit-learn-extra) (0.24.1)\n",
      "Requirement already satisfied: joblib>=0.11 in c:\\users\\souha\\anaconda3\\lib\\site-packages (from scikit-learn>=0.23.0->scikit-learn-extra) (1.0.1)\n",
      "Requirement already satisfied: threadpoolctl>=2.0.0 in c:\\users\\souha\\anaconda3\\lib\\site-packages (from scikit-learn>=0.23.0->scikit-learn-extra) (2.1.0)\n"
     ]
    }
   ],
   "source": [
    "!pip install scikit-learn-extra\n",
    "from sklearn_extra.cluster import KMedoids"
   ]
  },
  {
   "cell_type": "markdown",
   "id": "1b8a570a",
   "metadata": {},
   "source": [
    "# Load parameters"
   ]
  },
  {
   "cell_type": "code",
   "execution_count": 3,
   "id": "f57bb42d",
   "metadata": {},
   "outputs": [],
   "source": [
    "from Human_parameters import human_param\n",
    "from Mice_parameters import mice_param"
   ]
  },
  {
   "cell_type": "code",
   "execution_count": 4,
   "id": "e18d395a",
   "metadata": {},
   "outputs": [],
   "source": [
    "p = human_param()\n",
    "p_mice = mice_param()"
   ]
  },
  {
   "cell_type": "code",
   "execution_count": 5,
   "id": "45c02ff1",
   "metadata": {},
   "outputs": [
    {
     "data": {
      "text/plain": [
       "5"
      ]
     },
     "execution_count": 5,
     "metadata": {},
     "output_type": "execute_result"
    }
   ],
   "source": [
    "len(p_mice['Old_Control_mice'])"
   ]
  },
  {
   "cell_type": "markdown",
   "id": "2007500b",
   "metadata": {
    "id": "2007500b"
   },
   "source": [
    "# Extract data according to required sleep stage"
   ]
  },
  {
   "cell_type": "code",
   "execution_count": 6,
   "id": "4b2d115b",
   "metadata": {},
   "outputs": [],
   "source": [
    "from Extract_human_data import extract_human_data\n",
    "from Extract_mice_data import extract_mice_sleepdata"
   ]
  },
  {
   "cell_type": "code",
   "execution_count": 7,
   "id": "d21f43b2",
   "metadata": {
    "id": "d21f43b2",
    "outputId": "61d8a4dd-2f7d-4c3d-bea0-aa22b34337b3",
    "scrolled": true
   },
   "outputs": [
    {
     "name": "stdout",
     "output_type": "stream",
     "text": [
      "Loading dataset1...................\n",
      "\n",
      "Subject  102\n",
      "Opening raw data file D:\\final_human\\data\\102_ica.fif...\n",
      "Isotrak not found\n",
      "    Range : 0 ... 7485999 =      0.000 ... 37429.995 secs\n",
      "Ready.\n",
      "Reading 0 ... 7485999  =      0.000 ... 37429.995 secs...\n",
      "(6, 7486000)\n",
      "(6, 450000)\n",
      "\n",
      "Subject  208\n",
      "Opening raw data file D:\\final_human\\data\\208_ica.fif...\n",
      "Isotrak not found\n",
      "    Range : 0 ... 4789599 =      0.000 ... 23947.995 secs\n",
      "Ready.\n",
      "Reading 0 ... 4789599  =      0.000 ... 23947.995 secs...\n",
      "(6, 4789600)\n",
      "(6, 996000)\n",
      "\n",
      "Subject  457\n",
      "Opening raw data file D:\\final_human\\data\\457_ica.fif...\n",
      "Isotrak not found\n",
      "    Range : 0 ... 4614199 =      0.000 ... 23070.995 secs\n",
      "Ready.\n",
      "Reading 0 ... 4614199  =      0.000 ... 23070.995 secs...\n",
      "(6, 4614200)\n",
      "(6, 840000)\n",
      "==========================================================\n",
      "\n",
      "Subject  244\n",
      "Opening raw data file D:\\final_human\\data\\244_ica.fif...\n",
      "Isotrak not found\n",
      "    Range : 0 ... 5128799 =      0.000 ... 25643.995 secs\n",
      "Ready.\n",
      "Reading 0 ... 5128799  =      0.000 ... 25643.995 secs...\n",
      "(6, 5128800)\n",
      "(6, 1608000)\n",
      "\n",
      "Subject  340\n",
      "Opening raw data file D:\\final_human\\data\\340_ica.fif...\n",
      "Isotrak not found\n",
      "    Range : 0 ... 4725399 =      0.000 ... 23626.995 secs\n",
      "Ready.\n",
      "Reading 0 ... 4725399  =      0.000 ... 23626.995 secs...\n",
      "(6, 4725400)\n",
      "(6, 564000)\n",
      "\n",
      "Subject  399\n",
      "Opening raw data file D:\\final_human\\data\\399_ica.fif...\n",
      "Isotrak not found\n",
      "    Range : 0 ... 5707999 =      0.000 ... 28539.995 secs\n",
      "Ready.\n",
      "Reading 0 ... 5707999  =      0.000 ... 28539.995 secs...\n",
      "(6, 5708000)\n",
      "(6, 1182000)\n",
      "==========================================================\n",
      "Loading dataset2...................\n",
      "\n",
      "Subject  XVZ2FYATE8M0SSF\n",
      "Opening raw data file D:\\final_human\\data\\XVZ2FYATE8M0SSF_ica.fif...\n",
      "Isotrak not found\n",
      "    Range : 0 ... 5155199 =      0.000 ... 25775.995 secs\n",
      "Ready.\n",
      "Reading 0 ... 5155199  =      0.000 ... 25775.995 secs...\n",
      "(6, 5155200)\n",
      "(6, 1044000)\n",
      "\n",
      "Subject  XVZ2FYAQH8YMGKY\n",
      "Opening raw data file D:\\final_human\\data\\XVZ2FYAQH8YMGKY_ica.fif...\n",
      "Isotrak not found\n",
      "    Range : 0 ... 5858199 =      0.000 ... 29290.995 secs\n",
      "Ready.\n",
      "Reading 0 ... 5858199  =      0.000 ... 29290.995 secs...\n",
      "(6, 5858200)\n",
      "(6, 1050000)\n",
      "\n",
      "Subject  XVZ2FYATE84ZTFV\n",
      "Opening raw data file D:\\final_human\\data\\XVZ2FYATE84ZTFV_ica.fif...\n",
      "Isotrak not found\n",
      "    Range : 0 ... 4912599 =      0.000 ... 24562.995 secs\n",
      "Ready.\n",
      "Reading 0 ... 4912599  =      0.000 ... 24562.995 secs...\n",
      "(6, 4912600)\n",
      "(6, 492000)\n",
      "==========================================================\n",
      "\n",
      "Subject  XVZ2FYAQH8WVIUC\n",
      "Opening raw data file D:\\final_human\\data\\XVZ2FYAQH8WVIUC_ica.fif...\n",
      "Isotrak not found\n",
      "    Range : 0 ... 5540399 =      0.000 ... 27701.995 secs\n",
      "Ready.\n",
      "Reading 0 ... 5540399  =      0.000 ... 27701.995 secs...\n",
      "(6, 5540400)\n",
      "(6, 1146000)\n",
      "\n",
      "Subject  XVZ2FYATE84MSWI\n",
      "Opening raw data file D:\\final_human\\data\\XVZ2FYATE84MSWI_ica.fif...\n",
      "Isotrak not found\n",
      "    Range : 0 ... 4451199 =      0.000 ... 22255.995 secs\n",
      "Ready.\n",
      "Reading 0 ... 4451199  =      0.000 ... 22255.995 secs...\n",
      "(6, 4451200)\n",
      "(6, 1104000)\n",
      "\n",
      "Subject  XVZ2FYATE8B9R6X\n",
      "Opening raw data file D:\\final_human\\data\\XVZ2FYATE8B9R6X_ica.fif...\n",
      "Isotrak not found\n",
      "    Range : 0 ... 4515199 =      0.000 ... 22575.995 secs\n",
      "Ready.\n",
      "Reading 0 ... 4515199  =      0.000 ... 22575.995 secs...\n",
      "(6, 4515200)\n",
      "(6, 1314000)\n",
      "==========================================================\n"
     ]
    }
   ],
   "source": [
    "for i in p['data']:\n",
    "    print('Loading {}...................'.format(i))\n",
    "    vars()[i+'_Control'],vars()[i+'_Control_sleep_label'],vars()[i+'_Control_human'],vars()[i+'_no_data_Control'] = extract_human_data(p,'Control',i)\n",
    "    vars()[i+'_Tbi'],vars()[i+'_Tbi_sleep_label'],vars()[i+'_Tbi_human'],vars()[i+'_no_data_Tbi'] = extract_human_data(p,'Tbi',i)\n",
    "\n",
    "Control_datasets=[x + '_Control' for x in p['data']]\n",
    "Control_dataset_sleep_label=[x + '_Control_sleep_label' for x in p['data']]\n",
    "Control_dataset_human=[x + '_Control_human' for x in p['data']]\n",
    "Control={}\n",
    "Control_sleep_label={}\n",
    "Control_human=[]\n",
    "for i in range(len(Control_datasets)):\n",
    "    Control={**Control,**globals()[Control_datasets[i]]}\n",
    "    Control_sleep_label={**Control_sleep_label,**globals()[Control_dataset_sleep_label[i]]}\n",
    "    Control_human.extend(globals()[Control_dataset_human[i]])\n",
    "    \n",
    "Tbi_datasets=[x + '_Tbi' for x in p['data']]\n",
    "Tbi_dataset_sleep_label=[x + '_Tbi_sleep_label' for x in p['data']]\n",
    "Tbi_dataset_human=[x + '_Tbi_human' for x in p['data']]\n",
    "Tbi={}\n",
    "Tbi_sleep_label={}\n",
    "Tbi_human=[]\n",
    "for i in range(len(Tbi_datasets)):\n",
    "    Tbi={**Tbi,**globals()[Tbi_datasets[i]]}\n",
    "    Tbi_sleep_label={**Tbi_sleep_label,**globals()[Tbi_dataset_sleep_label[i]]}\n",
    "    Tbi_human.extend(globals()[Tbi_dataset_human[i]])"
   ]
  },
  {
   "cell_type": "code",
   "execution_count": 8,
   "id": "36d28903",
   "metadata": {},
   "outputs": [
    {
     "data": {
      "text/plain": [
       "(6, 450000)"
      ]
     },
     "execution_count": 8,
     "metadata": {},
     "output_type": "execute_result"
    }
   ],
   "source": [
    "dataset1_Control['102'].shape"
   ]
  },
  {
   "cell_type": "code",
   "execution_count": 9,
   "id": "3900d66c",
   "metadata": {
    "id": "3900d66c",
    "outputId": "665244c0-c173-479d-e059-f119003eae51",
    "scrolled": true
   },
   "outputs": [
    {
     "name": "stdout",
     "output_type": "stream",
     "text": [
      "Loading new mice data................\n",
      "\n",
      "Subject # m010_TPE01_BaselineDay2_sham\n",
      "Extracting EDF parameters from D:\\final_mice\\data\\m010_TPE01_BaselineDay2_sham.edf...\n",
      "EDF file detected\n",
      "Setting channel info structure...\n",
      "Creating raw.info structure...\n",
      "Reading 0 ... 21599999  =      0.000 ... 86399.996 secs...\n",
      "Subject data shape  (1025024,)\n",
      "\n",
      "Subject # m010_TPE03_BaselineDay2_sham\n",
      "Extracting EDF parameters from D:\\final_mice\\data\\m010_TPE03_BaselineDay2_sham.edf...\n",
      "EDF file detected\n",
      "Setting channel info structure...\n",
      "Creating raw.info structure...\n",
      "Reading 0 ... 21599999  =      0.000 ... 86399.996 secs...\n",
      "Subject data shape  (711680,)\n",
      "\n",
      "Subject # m010_TPE06_BaselineDay2_sham\n",
      "Extracting EDF parameters from D:\\final_mice\\data\\m010_TPE06_BaselineDay2_sham.edf...\n",
      "EDF file detected\n",
      "Setting channel info structure...\n",
      "Creating raw.info structure...\n",
      "Reading 0 ... 21599999  =      0.000 ... 86399.996 secs...\n",
      "Subject data shape  (900096,)\n",
      "\n",
      "Subject # m010_TPE08_BaselineDay2_sham\n",
      "Extracting EDF parameters from D:\\final_mice\\data\\m010_TPE08_BaselineDay2_sham.edf...\n",
      "EDF file detected\n",
      "Setting channel info structure...\n",
      "Creating raw.info structure...\n",
      "Reading 0 ... 21599999  =      0.000 ... 86399.996 secs...\n",
      "Subject data shape  (1439744,)\n",
      "\n",
      "Subject # m010_TPE10_BaselineDay2_sham\n",
      "Extracting EDF parameters from D:\\final_mice\\data\\m010_TPE10_BaselineDay2_sham.edf...\n",
      "EDF file detected\n",
      "Setting channel info structure...\n",
      "Creating raw.info structure...\n",
      "Reading 0 ... 21599999  =      0.000 ... 86399.996 secs...\n",
      "Subject data shape  (1392640,)\n",
      "==========================================================\n",
      "\n",
      "Subject # m001_M60_BaselineDay1_CCI\n",
      "Extracting EDF parameters from D:\\final_mice\\data\\m001_M60_BaselineDay1_CCI.edf...\n",
      "EDF file detected\n",
      "Setting channel info structure...\n",
      "Creating raw.info structure...\n",
      "Reading 0 ... 21599999  =      0.000 ... 86399.996 secs...\n",
      "Subject data shape  (64512,)\n",
      "\n",
      "Subject # m001_L56_BaselineDay1_CCI\n",
      "Extracting EDF parameters from D:\\final_mice\\data\\m001_L56_BaselineDay1_CCI.edf...\n",
      "EDF file detected\n",
      "Setting channel info structure...\n",
      "Creating raw.info structure...\n",
      "Reading 0 ... 21599999  =      0.000 ... 86399.996 secs...\n",
      "Subject data shape  (544768,)\n",
      "\n",
      "Subject # m001_L55_BaselineDay1_CCI\n",
      "Extracting EDF parameters from D:\\final_mice\\data\\m001_L55_BaselineDay1_CCI.edf...\n",
      "EDF file detected\n",
      "Setting channel info structure...\n",
      "Creating raw.info structure...\n",
      "Reading 0 ... 21599999  =      0.000 ... 86399.996 secs...\n",
      "Subject data shape  (945152,)\n",
      "\n",
      "Subject # m001_K51_BaselineDay1_CCI\n",
      "Extracting EDF parameters from D:\\final_mice\\data\\m001_K51_BaselineDay1_CCI.edf...\n",
      "EDF file detected\n",
      "Setting channel info structure...\n",
      "Creating raw.info structure...\n",
      "Reading 0 ... 21599999  =      0.000 ... 86399.996 secs...\n",
      "Subject data shape  (305152,)\n",
      "\n",
      "Subject # m001_J43_BaselineDay1_CCI\n",
      "Extracting EDF parameters from D:\\final_mice\\data\\m001_J43_BaselineDay1_CCI.edf...\n",
      "EDF file detected\n",
      "Setting channel info structure...\n",
      "Creating raw.info structure...\n",
      "Reading 0 ... 21599999  =      0.000 ... 86399.996 secs...\n",
      "Subject data shape  (523264,)\n",
      "==========================================================\n",
      "\n"
     ]
    }
   ],
   "source": [
    "if p_mice['data_mice'] == 'old':\n",
    "    print('Loading old mice data................')\n",
    "    Control_data_mice,Control_mice,no_data_control_mice         =   extract_mice_sleepdata(p_mice['Old_Control_mice'],p_mice,'Control','old')\n",
    "    Tbi_data_mice,Tbi_mice,no_data_tbi_mice                 =   extract_mice_sleepdata(p_mice['Old_Tbi_mice'],p_mice,'Tbi','old')\n",
    "    print()\n",
    "elif p_mice['data_mice'] == 'new':\n",
    "    print('Loading new mice data................')\n",
    "    Control_data_mice,Control_mice,no_data_control_mice         =   extract_mice_sleepdata(p_mice['New_Control_mice'],p_mice,'Control','new')\n",
    "    Tbi_data_mice,Tbi_mice,no_data_tbi_mice                 =   extract_mice_sleepdata(p_mice['New_Tbi_mice'],p_mice,'Tbi','new')\n",
    "    print()    \n",
    "elif p_mice['data_mice'] == 'both':\n",
    "    print('Loading old data................')\n",
    "    Old_Control_data_mice,Old_Control_mice,old_no_data_control_mice         =   extract_mice_sleepdata(p_mice['Old_Control_mice'],p_mice,'Control','old')\n",
    "    Old_Tbi_data_mice,Old_Tbi_mice,old_no_data_tbi_mice                 =   extract_mice_sleepdata(p_mice['Old_Tbi_mice'],p_mice,'Tbi','old')\n",
    "    print()\n",
    "    print('Loading new data................')\n",
    "    New_Control_data_mice,New_Control_mice,new_no_data_control_mice         =   extract_mice_sleepdata(p_mice['New_Control_mice'],p_mice,'Control','new')\n",
    "    New_Tbi_data_mice,New_Tbi_mice,new_no_data_tbi_mice                 =   extract_mice_sleepdata(p_mice['New_Tbi_mice'],p_mice,'Tbi','new')\n",
    "    print()\n",
    "    Control_data_mice={**Old_Control_data_mice,**New_Control_data_mice}\n",
    "    Control_mice=Old_Control_mice+New_Control_mice\n",
    "    no_data_control_mice=old_no_data_control_mice+new_no_data_control_mice\n",
    "    Tbi_data_mice={**Old_Tbi_data_mice,**New_Tbi_data_mice}\n",
    "    Tbi_mice=Old_Tbi_mice+New_Tbi_mice\n",
    "    no_data_tbi_mice=old_no_data_tbi_mice+new_no_data_tbi_mice\n"
   ]
  },
  {
   "cell_type": "markdown",
   "id": "a800ba0d",
   "metadata": {},
   "source": [
    "## Resample if necessary"
   ]
  },
  {
   "cell_type": "code",
   "execution_count": null,
   "id": "1e94d2ca",
   "metadata": {},
   "outputs": [],
   "source": [
    "y=Control_data_mice['m010_TPE01_BaselineDay2_sham']"
   ]
  },
  {
   "cell_type": "code",
   "execution_count": null,
   "id": "59789a6e",
   "metadata": {},
   "outputs": [],
   "source": [
    "y"
   ]
  },
  {
   "cell_type": "code",
   "execution_count": null,
   "id": "7f0e08c6",
   "metadata": {},
   "outputs": [],
   "source": [
    "y=Control_data_mice['m010_TPE01_BaselineDay2_sham'][0]\n",
    "print(len(y))\n",
    "from scipy import signal\n",
    "y_resample=signal.resample(y,int(len(y)*200/256))\n",
    "print(len(y_resample))"
   ]
  },
  {
   "cell_type": "code",
   "execution_count": null,
   "id": "e918c08e",
   "metadata": {
    "scrolled": false
   },
   "outputs": [],
   "source": [
    "\"\"\"x=np.arange(0,len(y),1)\n",
    "x_resample=np.arange(0,len(y),len(y)/len(y_resample))\n",
    "%matplotlib notebook\n",
    "plt.plot(x,y,'b', x_resample,y_resample,'r')\n",
    "plt.show()\"\"\""
   ]
  },
  {
   "cell_type": "markdown",
   "id": "b7953d4d",
   "metadata": {
    "id": "b7953d4d"
   },
   "source": [
    "# create epochs of required length"
   ]
  },
  {
   "cell_type": "code",
   "execution_count": 10,
   "id": "0c9b369b",
   "metadata": {
    "id": "0c9b369b"
   },
   "outputs": [],
   "source": [
    "from Create_epochs import create_epoch"
   ]
  },
  {
   "cell_type": "code",
   "execution_count": 11,
   "id": "b81e0ab3",
   "metadata": {
    "id": "b81e0ab3",
    "outputId": "f9cdee14-763e-4302-d465-babe400d06ee"
   },
   "outputs": [
    {
     "name": "stdout",
     "output_type": "stream",
     "text": [
      "Creating human epochs of length 30 sec..............\n",
      "\n"
     ]
    }
   ],
   "source": [
    "print('Creating human epochs of length '+str(p['epoch_len'])+' sec..............')\n",
    "Control_epoch_human  =    create_epoch(Control,p,'Control','human')\n",
    "Tbi_epoch_human      =    create_epoch(Tbi,p,'Tbi','human')\n",
    "print()"
   ]
  },
  {
   "cell_type": "code",
   "execution_count": 12,
   "id": "c23bc89b",
   "metadata": {
    "id": "c23bc89b",
    "outputId": "62db27e6-5b16-4c16-8d45-997d3a2669fb"
   },
   "outputs": [
    {
     "name": "stdout",
     "output_type": "stream",
     "text": [
      "Creating mice epochs of length 28 sec..............\n",
      "\n"
     ]
    }
   ],
   "source": [
    "\n",
    "print('Creating mice epochs of length '+str(p_mice['epoch_len'])+' sec..............')\n",
    "Control_epoch_mice  =    create_epoch(Control_data_mice,p_mice,'Control','mice')\n",
    "Tbi_epoch_mice      =    create_epoch(Tbi_data_mice,p_mice,'Tbi','mice')\n",
    "print()"
   ]
  },
  {
   "cell_type": "markdown",
   "id": "1789d5e9",
   "metadata": {
    "id": "1789d5e9"
   },
   "source": [
    "# remove epochs which contain artifact"
   ]
  },
  {
   "cell_type": "code",
   "execution_count": 13,
   "id": "c2d99692",
   "metadata": {
    "id": "c2d99692"
   },
   "outputs": [],
   "source": [
    "from Artifact_removal import artifact_removal"
   ]
  },
  {
   "cell_type": "code",
   "execution_count": 14,
   "id": "10bea161",
   "metadata": {
    "id": "10bea161",
    "outputId": "4e23fbda-ca51-4e19-85ad-a193195c53ca"
   },
   "outputs": [
    {
     "name": "stdout",
     "output_type": "stream",
     "text": [
      "Removing human epochs with artifacts.......\n",
      "Minimum duration human 37 min\n",
      "\n"
     ]
    }
   ],
   "source": [
    "print('Removing human epochs with artifacts.......')\n",
    "Control_AR_human,min_control_human,Control_mask_human     =    artifact_removal(Control_epoch_human,p)\n",
    "Tbi_AR_human,min_tbi_human,Tbi_mask_human     =    artifact_removal(Tbi_epoch_human,p)\n",
    "\n",
    "min_dur_human=int(min(min_control_human,min_tbi_human)*p['epoch_len']/60)\n",
    "print('Minimum duration human '+str(min_dur_human)+' min')\n",
    "print()\n",
    "\n"
   ]
  },
  {
   "cell_type": "code",
   "execution_count": 15,
   "id": "ff7ac701",
   "metadata": {
    "id": "ff7ac701",
    "outputId": "52c1a11c-778c-475b-d657-ba7a1cff5daa"
   },
   "outputs": [
    {
     "name": "stdout",
     "output_type": "stream",
     "text": [
      "Removing mice epochs with artifacts.......\n",
      "Minimum duration mice 4 min\n",
      "\n"
     ]
    }
   ],
   "source": [
    "print('Removing mice epochs with artifacts.......')\n",
    "\n",
    "Control_AR_mice,min_control_mice,Control_mask_mice     =    artifact_removal(Control_epoch_mice,p_mice)\n",
    "Tbi_AR_mice,min_tbi_mice,Tbi_mask_mice     =    artifact_removal(Tbi_epoch_mice,p_mice)\n",
    "\n",
    "min_dur_mice=int(min(min_control_mice,min_tbi_mice)*p_mice['epoch_len']/60)\n",
    "print('Minimum duration mice '+str(min_dur_mice)+' min')\n",
    "print()\n"
   ]
  },
  {
   "cell_type": "markdown",
   "id": "3d18ffb2",
   "metadata": {
    "id": "3d18ffb2"
   },
   "source": [
    "# create label for each epoch (0=Control,1=TBI)"
   ]
  },
  {
   "cell_type": "code",
   "execution_count": 16,
   "id": "2beb264b",
   "metadata": {
    "id": "2beb264b",
    "outputId": "d3b53dc8-34b4-45d6-d2c5-0459400dedfa"
   },
   "outputs": [],
   "source": [
    "# select epoch labels based on mask\n",
    "def label_sel(data,mask):\n",
    "    \n",
    "    for i in data:\n",
    "        data[i]=(np.delete(data[i][0:len(mask[i])],mask[i]))\n",
    "    return data"
   ]
  },
  {
   "cell_type": "code",
   "execution_count": 17,
   "id": "46a49bf2",
   "metadata": {},
   "outputs": [],
   "source": [
    "Control_sleep_label=label_sel(Control_sleep_label,Control_mask_human)\n",
    "Tbi_sleep_label=label_sel(Tbi_sleep_label,Tbi_mask_human)"
   ]
  },
  {
   "cell_type": "code",
   "execution_count": 18,
   "id": "d640f2df",
   "metadata": {},
   "outputs": [],
   "source": [
    "# create epoch labels for mice \n",
    "def create_mice_label (data,p_mice,group):\n",
    "    label = {}\n",
    "    for i in data:\n",
    "        if group == 'Control':\n",
    "            label[i] = [p_mice['sleep_stage']+'0' for x in range(np.shape(data[i])[2])]\n",
    "        elif group == 'Tbi':\n",
    "            label[i] = [p_mice['sleep_stage']+'1' for x in range(np.shape(data[i])[2])]\n",
    "        \n",
    "    return label        "
   ]
  },
  {
   "cell_type": "code",
   "execution_count": 19,
   "id": "77c7c475",
   "metadata": {
    "id": "77c7c475"
   },
   "outputs": [],
   "source": [
    "Control_mice_label = create_mice_label(Control_AR_mice,p_mice,'Control')\n",
    "Tbi_mice_label = create_mice_label(Tbi_AR_mice,p_mice,'Tbi')"
   ]
  },
  {
   "cell_type": "markdown",
   "id": "65fc8ef4",
   "metadata": {
    "id": "65fc8ef4"
   },
   "source": [
    "# select required data size"
   ]
  },
  {
   "cell_type": "code",
   "execution_count": 20,
   "id": "9fdcea3e",
   "metadata": {
    "id": "9fdcea3e"
   },
   "outputs": [],
   "source": [
    "from Select_epochs import length_sel"
   ]
  },
  {
   "cell_type": "code",
   "execution_count": 21,
   "id": "bc576c56",
   "metadata": {
    "id": "bc576c56",
    "outputId": "0184b9c0-86bb-4838-ba62-860b5d698470"
   },
   "outputs": [
    {
     "name": "stdout",
     "output_type": "stream",
     "text": [
      "Choosing first 30min data from each human sub\n"
     ]
    }
   ],
   "source": [
    "if p['duration'] != 'NA' and p['duration']<min_dur_human:\n",
    "    print('Choosing first '+str(p['duration'])+'min data from each human sub')\n",
    "    Control_AR_human,Control_sleep_label     =    length_sel(Control_AR_human,Control_sleep_label,p)\n",
    "    Tbi_AR_human,Tbi_sleep_label         =    length_sel(Tbi_AR_human,Tbi_sleep_label,p)\n",
    "elif p['duration']>=min_dur_human:\n",
    "    p['duration']=min_dur_human\n",
    "    print('Choosing first '+str(p['duration'])+'min data from each human sub')\n",
    "    Control_AR_human,Control_sleep_label     =    length_sel(Control_AR_human,Control_sleep_label,p)\n",
    "    Tbi_AR_human,Tbi_sleep_label         =    length_sel(Tbi_AR_human,Tbi_sleep_label,p)\n"
   ]
  },
  {
   "cell_type": "code",
   "execution_count": 22,
   "id": "691c5c12",
   "metadata": {
    "id": "691c5c12",
    "outputId": "f82054e2-ff10-45a3-b830-4880dab2d401"
   },
   "outputs": [
    {
     "name": "stdout",
     "output_type": "stream",
     "text": [
      "Choosing first 4min data from each mice sub\n",
      "\n"
     ]
    }
   ],
   "source": [
    "if p_mice['duration'] != 'NA' and p_mice['duration']<min_dur_mice:\n",
    "    print('Choosing first '+str(p_mice['duration'])+'min data from each mice sub')\n",
    "    Control_AR_mice,Control_mice_label     =    length_sel(Control_AR_mice,Control_mice_label,p_mice)\n",
    "    Tbi_AR_mice,Tbi_mice_label         =    length_sel(Tbi_AR_mice,Tbi_mice_label,p_mice)\n",
    "elif p_mice['duration']>min_dur_mice:\n",
    "    p_mice['duration']=min_dur_mice\n",
    "    print('Choosing first '+str(p_mice['duration'])+'min data from each mice sub')\n",
    "    Control_AR_mice,Control_mice_label     =    length_sel(Control_AR_mice,Control_mice_label,p_mice)\n",
    "    Tbi_AR_mice,Tbi_mice_label         =    length_sel(Tbi_AR_mice,Tbi_mice_label,p_mice)\n",
    "print()\n"
   ]
  },
  {
   "cell_type": "markdown",
   "id": "a10deb77",
   "metadata": {
    "id": "a10deb77"
   },
   "source": [
    "# filter data to obtain clean data"
   ]
  },
  {
   "cell_type": "code",
   "execution_count": 23,
   "id": "6bf7ae15",
   "metadata": {
    "id": "6bf7ae15"
   },
   "outputs": [],
   "source": [
    "from Frequency_filtering import freq_filt"
   ]
  },
  {
   "cell_type": "code",
   "execution_count": 24,
   "id": "1ab2d7ee",
   "metadata": {
    "id": "1ab2d7ee",
    "outputId": "d5378c33-e3c2-453f-b2c8-d9b2bd8667fd"
   },
   "outputs": [
    {
     "name": "stdout",
     "output_type": "stream",
     "text": [
      "Filtering human epochs in normal range ............\n",
      "\n"
     ]
    }
   ],
   "source": [
    "p['freq_band']      =   'normal'\n",
    "print('Filtering human epochs in '+p['freq_band']+' range ............')\n",
    "Control_filtered_human  =    freq_filt(Control_AR_human,p,'Control','human')\n",
    "Tbi_filtered_human      =    freq_filt(Tbi_AR_human,p,'Tbi','human')  \n",
    "print()\n"
   ]
  },
  {
   "cell_type": "code",
   "execution_count": 25,
   "id": "36e5b994",
   "metadata": {
    "id": "36e5b994",
    "outputId": "b83b8f57-abf8-4905-b75d-2db18a0410b6"
   },
   "outputs": [
    {
     "name": "stdout",
     "output_type": "stream",
     "text": [
      "Filtering mice epochs in normal range ............\n",
      "\n"
     ]
    }
   ],
   "source": [
    "p_mice['freq_band']      =   'normal'\n",
    "print('Filtering mice epochs in '+p_mice['freq_band']+' range ............')\n",
    "Control_filtered_mice  =    freq_filt(Control_AR_mice,p_mice,'Control','mice')\n",
    "Tbi_filtered_mice      =    freq_filt(Tbi_AR_mice,p_mice,'Tbi','mice')  \n",
    "print()\n"
   ]
  },
  {
   "cell_type": "markdown",
   "id": "dee81ad8",
   "metadata": {
    "id": "dee81ad8"
   },
   "source": [
    "# ----------------------"
   ]
  },
  {
   "cell_type": "markdown",
   "id": "72c80e9a",
   "metadata": {
    "id": "72c80e9a"
   },
   "source": [
    "# Final variables"
   ]
  },
  {
   "cell_type": "markdown",
   "id": "dd575be7",
   "metadata": {
    "id": "dd575be7"
   },
   "source": [
    "### Control_filtered_human,Control_sleep_label\n",
    "### Tbi_filtered_human,Tbi_sleep_label\n",
    "### Control_filtered_mice,Control_mice_label\n",
    "### Tbi_filtered_mice,Tbi_mice_label"
   ]
  },
  {
   "cell_type": "markdown",
   "id": "aa99ba3e",
   "metadata": {
    "id": "aa99ba3e"
   },
   "source": [
    "### All of the above variables are dictionaries with key being the subject's name. Shape of individual subject's data = (no. of electrodes, length of each epoch\\*sampling freq, no. of epochs)"
   ]
  },
  {
   "cell_type": "code",
   "execution_count": 26,
   "id": "9319fd96",
   "metadata": {
    "id": "9319fd96",
    "outputId": "e6fb521c-f7a9-4de1-b841-0d14b7cc4ea3"
   },
   "outputs": [
    {
     "data": {
      "text/plain": [
       "(6, 6000, 60)"
      ]
     },
     "execution_count": 26,
     "metadata": {},
     "output_type": "execute_result"
    }
   ],
   "source": [
    "np.shape(Control_filtered_human['102'])"
   ]
  },
  {
   "cell_type": "code",
   "execution_count": 27,
   "id": "c530dde1",
   "metadata": {
    "id": "c530dde1",
    "outputId": "f9170416-f7b5-40b9-a368-b0a19c643a2a"
   },
   "outputs": [
    {
     "data": {
      "text/plain": [
       "(60,)"
      ]
     },
     "execution_count": 27,
     "metadata": {},
     "output_type": "execute_result"
    }
   ],
   "source": [
    "np.shape(Control_sleep_label['102'])"
   ]
  },
  {
   "cell_type": "markdown",
   "id": "a77e5178",
   "metadata": {
    "id": "75de8638"
   },
   "source": [
    "# ------------------------------------------------------------------"
   ]
  },
  {
   "cell_type": "markdown",
   "id": "f9663036",
   "metadata": {},
   "source": [
    "# Calculate spectral features "
   ]
  },
  {
   "cell_type": "code",
   "execution_count": 28,
   "id": "db9fca63",
   "metadata": {},
   "outputs": [],
   "source": [
    "from Spectral_features import feature_spectral"
   ]
  },
  {
   "cell_type": "code",
   "execution_count": 29,
   "id": "7c5d8421",
   "metadata": {},
   "outputs": [
    {
     "name": "stdout",
     "output_type": "stream",
     "text": [
      "Calculating spectral features human.........\n",
      "\n"
     ]
    }
   ],
   "source": [
    "print('Calculating spectral features human.........')\n",
    "Control_filtered_data_human,Control_BP_human,Control_RP_human,Control_SF_human,Control_spec_ent_human,Control_FAA_human,Control_PAC_human  =    feature_spectral(Control_filtered_human,p,'Control','human')\n",
    "Tbi_filtered_data_human,Tbi_BP_human,Tbi_RP_human,Tbi_SF_human,Tbi_spec_ent_human,Tbi_FAA_human,Tbi_PAC_human      =    feature_spectral(Tbi_filtered_human,p,'Tbi','human')   \n",
    "print()"
   ]
  },
  {
   "cell_type": "code",
   "execution_count": 30,
   "id": "f2922edc",
   "metadata": {},
   "outputs": [
    {
     "name": "stdout",
     "output_type": "stream",
     "text": [
      "Calculating spectral features mice.........\n",
      "\n"
     ]
    }
   ],
   "source": [
    "print('Calculating spectral features mice.........')\n",
    "Control_filtered_data_mice,Control_BP_mice,Control_RP_mice,Control_SF_mice,Control_spec_ent_mice,Control_FAA_mice,Control_PAC_mice  =    feature_spectral(Control_filtered_mice,p_mice,'Control','mice')\n",
    "Tbi_filtered_data_mice,Tbi_BP_mice,Tbi_RP_mice,Tbi_SF_mice,Tbi_spec_ent_mice,Tbi_FAA_mice,Tbi_PAC_mice      =    feature_spectral(Tbi_filtered_mice,p_mice,'Tbi','mice')   \n",
    "print()"
   ]
  },
  {
   "cell_type": "markdown",
   "id": "a637c69d",
   "metadata": {},
   "source": [
    "# Calculate connectivity features"
   ]
  },
  {
   "cell_type": "code",
   "execution_count": 31,
   "id": "53d0589b",
   "metadata": {},
   "outputs": [],
   "source": [
    "from Connectivity_features import feature_connectivity"
   ]
  },
  {
   "cell_type": "code",
   "execution_count": 32,
   "id": "bc87d543",
   "metadata": {},
   "outputs": [],
   "source": [
    "# choose frequency bands of interest \n",
    "freq_band=['delta','theta','alpha','sigma','beta','gama']"
   ]
  },
  {
   "cell_type": "code",
   "execution_count": 33,
   "id": "c70445a1",
   "metadata": {},
   "outputs": [
    {
     "name": "stdout",
     "output_type": "stream",
     "text": [
      "Calculating connectivity features human.........\n",
      "\n"
     ]
    }
   ],
   "source": [
    "print('Calculating connectivity features human.........')\n",
    "Control_coh_human,Control_phase_syn_human  =    feature_connectivity(Control_filtered_human,p,'Control','human',Control_filtered_data_human,freq_band)\n",
    "Tbi_coh_human,Tbi_phase_syn_human      =    feature_connectivity(Tbi_filtered_human,p,'Tbi','human',Tbi_filtered_data_human,freq_band)\n",
    "print()\n",
    "# [F4_F3,C3_F3,C3_F4,C4_F3,C4_F4,C4_C3,O1_F3,O1_F4,O1_C3,O1_C4,O2_F3,O2_F4,O2_C3,O2_C4,O2_O1]"
   ]
  },
  {
   "cell_type": "markdown",
   "id": "b3f8b6bb",
   "metadata": {},
   "source": [
    "# Calculate non-linear features"
   ]
  },
  {
   "cell_type": "code",
   "execution_count": 34,
   "id": "1dea7475",
   "metadata": {},
   "outputs": [],
   "source": [
    "from Nonlinear_features import feature_nonlin"
   ]
  },
  {
   "cell_type": "code",
   "execution_count": 35,
   "id": "c3ba1113",
   "metadata": {},
   "outputs": [
    {
     "name": "stdout",
     "output_type": "stream",
     "text": [
      "Calculating Non-linear features human...........\n",
      "\n"
     ]
    }
   ],
   "source": [
    "print('Calculating Non-linear features human...........')\n",
    "Activity_Control_human,Mobility_Control_human,Complexity_Control_human  =    feature_nonlin(Control_filtered_data_human,p,freq_band,'human')\n",
    "Activity_Tbi_human,Mobility_Tbi_human,Complexity_Tbi_human     =    feature_nonlin(Tbi_filtered_data_human,p,freq_band,'human')\n",
    "print()"
   ]
  },
  {
   "cell_type": "code",
   "execution_count": 36,
   "id": "80c9cc52",
   "metadata": {},
   "outputs": [
    {
     "name": "stdout",
     "output_type": "stream",
     "text": [
      "Calculating Non-linear features mice...........\n",
      "\n"
     ]
    }
   ],
   "source": [
    "print('Calculating Non-linear features mice...........')\n",
    "Activity_Control_mice,Mobility_Control_mice,Complexity_Control_mice  =    feature_nonlin(Control_filtered_data_mice,p_mice,freq_band,'mice')\n",
    "Activity_Tbi_mice,Mobility_Tbi_mice,Complexity_Tbi_mice     =    feature_nonlin(Tbi_filtered_data_mice,p_mice,freq_band,'mice')\n",
    "print()\n"
   ]
  },
  {
   "cell_type": "markdown",
   "id": "cacb8c13",
   "metadata": {},
   "source": [
    "# Plot features"
   ]
  },
  {
   "cell_type": "code",
   "execution_count": 37,
   "id": "fa6ca5a8",
   "metadata": {},
   "outputs": [],
   "source": [
    "from Feature_plots import plots"
   ]
  },
  {
   "cell_type": "code",
   "execution_count": 38,
   "id": "643d720b",
   "metadata": {
    "scrolled": true
   },
   "outputs": [
    {
     "name": "stdout",
     "output_type": "stream",
     "text": [
      "Extracting EDF parameters from D:\\final_human\\data\\244.edf...\n",
      "EDF file detected\n",
      "Setting channel info structure...\n",
      "Creating raw.info structure...\n",
      "Reading 0 ... 5128799  =      0.000 ... 25643.995 secs...\n",
      "Opening raw data file D:\\final_human\\data\\244_ica.fif...\n",
      "Isotrak not found\n",
      "    Range : 0 ... 5128799 =      0.000 ... 25643.995 secs\n",
      "Ready.\n",
      "Reading 0 ... 5128799  =      0.000 ... 25643.995 secs...\n"
     ]
    },
    {
     "data": {
      "image/png": "[encoded data removed]",
      "text/plain": [
       "<Figure size 432x288 with 3 Axes>"
      ]
     },
     "metadata": {
      "needs_background": "light"
     },
     "output_type": "display_data"
    },
    {
     "data": {
      "image/png": "[encoded data removed]",
      "text/plain": [
       "<Figure size 432x288 with 2 Axes>"
      ]
     },
     "metadata": {
      "needs_background": "light"
     },
     "output_type": "display_data"
    },
    {
     "data": {
      "image/png": "[encoded data removed]",
      "text/plain": [
       "<Figure size 504x288 with 1 Axes>"
      ]
     },
     "metadata": {
      "needs_background": "light"
     },
     "output_type": "display_data"
    },
    {
     "data": {
      "image/png": "[encoded data removed]",
      "text/plain": [
       "<Figure size 432x288 with 2 Axes>"
      ]
     },
     "metadata": {
      "needs_background": "light"
     },
     "output_type": "display_data"
    },
    {
     "data": {
      "image/png": "[encoded data removed]",
      "text/plain": [
       "<Figure size 460.8x144 with 2 Axes>"
      ]
     },
     "metadata": {
      "needs_background": "light"
     },
     "output_type": "display_data"
    },
    {
     "data": {
      "image/png": "[encoded data removed]",
      "text/plain": [
       "<Figure size 432x288 with 1 Axes>"
      ]
     },
     "metadata": {
      "needs_background": "light"
     },
     "output_type": "display_data"
    }
   ],
   "source": [
    "p['fs']=p['dataset1_fsh']\n",
    "plots('244',Tbi_filtered_human['244'][0,:,0],Tbi_AR_human['244'][0,:,0],p)\n"
   ]
  },
  {
   "cell_type": "markdown",
   "id": "9cf2982b",
   "metadata": {},
   "source": [
    "# Organize data into table"
   ]
  },
  {
   "cell_type": "code",
   "execution_count": 39,
   "id": "ae0738d0",
   "metadata": {},
   "outputs": [],
   "source": [
    "from Create_table import create_table"
   ]
  },
  {
   "cell_type": "code",
   "execution_count": 40,
   "id": "75392179",
   "metadata": {},
   "outputs": [
    {
     "name": "stdout",
     "output_type": "stream",
     "text": [
      "Creating human dataframe.........................\n",
      "\n"
     ]
    }
   ],
   "source": [
    "print('Creating human dataframe.........................')\n",
    "Control_frame_human  =    create_table(Control_BP_human,Control_RP_human,Control_SF_human,Control_spec_ent_human,Control_FAA_human,Control_PAC_human,Activity_Control_human,Mobility_Control_human,Complexity_Control_human,Control_human,freq_band,Control_sleep_label,p,'human',Control_coh_human,Control_phase_syn_human)\n",
    "Tbi_frame_human     =    create_table(Tbi_BP_human,Tbi_RP_human,Tbi_SF_human,Tbi_spec_ent_human,Tbi_FAA_human,Tbi_PAC_human,Activity_Tbi_human,Mobility_Tbi_human,Complexity_Tbi_human,Tbi_human,freq_band,Tbi_sleep_label,p,'human',Tbi_coh_human,Tbi_phase_syn_human)\n",
    "print()"
   ]
  },
  {
   "cell_type": "code",
   "execution_count": 41,
   "id": "7be0b6ef",
   "metadata": {},
   "outputs": [
    {
     "name": "stdout",
     "output_type": "stream",
     "text": [
      "Creating mice dataframe.........................\n",
      "\n"
     ]
    }
   ],
   "source": [
    "print('Creating mice dataframe.........................')\n",
    "Control_frame_mice  =    create_table(Control_BP_mice,Control_RP_mice,Control_SF_mice,Control_spec_ent_mice,Control_FAA_mice,Control_PAC_mice,Activity_Control_mice,Mobility_Control_mice,Complexity_Control_mice,Control_mice,freq_band,Control_mice_label,p_mice,'mice')\n",
    "Tbi_frame_mice     =    create_table(Tbi_BP_mice,Tbi_RP_mice,Tbi_SF_mice,Tbi_spec_ent_mice,Tbi_FAA_mice,Tbi_PAC_mice,Activity_Tbi_mice,Mobility_Tbi_mice,Complexity_Tbi_mice,Tbi_mice,freq_band,Tbi_mice_label,p_mice,'mice')\n",
    "print()\n"
   ]
  },
  {
   "cell_type": "markdown",
   "id": "91fbe472",
   "metadata": {},
   "source": [
    "# Age regression on human data"
   ]
  },
  {
   "cell_type": "code",
   "execution_count": 42,
   "id": "5c6f6686",
   "metadata": {},
   "outputs": [],
   "source": [
    "from Age_regression import age_reg_control_human,age_reg_tbi_human"
   ]
  },
  {
   "cell_type": "code",
   "execution_count": 43,
   "id": "3b293d5d",
   "metadata": {},
   "outputs": [
    {
     "name": "stdout",
     "output_type": "stream",
     "text": [
      "Perform age regression human..................\n",
      "\n"
     ]
    }
   ],
   "source": [
    "# Call age regression\n",
    "Total_control_dataframe_human=pd.DataFrame()\n",
    "\n",
    "for i in (Control_frame_human):\n",
    "    Total_control_dataframe_human = Total_control_dataframe_human.append(Control_frame_human[i], ignore_index = True) \n",
    "\n",
    "Total_tbi_dataframe_human=pd.DataFrame()\n",
    "    \n",
    "for i in (Tbi_frame_human):\n",
    "    Total_tbi_dataframe_human = Total_tbi_dataframe_human.append(Tbi_frame_human[i], ignore_index = True) \n",
    "\n",
    "if p['age_regg'] == 'Y':\n",
    "    print('Perform age regression human..................')\n",
    "    Total_control_dataframe_human,slop_human,yintercept_human=age_reg_control_human(Total_control_dataframe_human)\n",
    "    Total_tbi_dataframe_human=age_reg_tbi_human(Total_tbi_dataframe_human,slop_human,yintercept_human)\n",
    "    print()\n",
    "\n",
    "Total_dataframe_human = Total_control_dataframe_human.append(Total_tbi_dataframe_human, ignore_index = True) \n"
   ]
  },
  {
   "cell_type": "code",
   "execution_count": 44,
   "id": "a9055fca",
   "metadata": {},
   "outputs": [],
   "source": [
    "# format mice data\n",
    "Total_control_dataframe_mice=pd.DataFrame()\n",
    "\n",
    "for i in (Control_frame_mice):\n",
    "    Total_control_dataframe_mice = Total_control_dataframe_mice.append(Control_frame_mice[i], ignore_index = True) \n",
    "\n",
    "Total_tbi_dataframe_mice=pd.DataFrame()\n",
    "    \n",
    "for i in (Tbi_frame_mice):\n",
    "    Total_tbi_dataframe_mice = Total_tbi_dataframe_mice.append(Tbi_frame_mice[i], ignore_index = True) \n",
    "\n",
    "Total_dataframe_mice = Total_control_dataframe_mice.append(Total_tbi_dataframe_mice, ignore_index = True) \n"
   ]
  },
  {
   "cell_type": "code",
   "execution_count": 45,
   "id": "832b45d4",
   "metadata": {},
   "outputs": [],
   "source": [
    "if p['max_features'] > (len(Total_dataframe_human.columns)-1):\n",
    "    No_fea_sel_human = 0\n",
    "    print('No Feature Selection in humans')\n",
    "else:\n",
    "    No_fea_sel_human = 0\n",
    "    #print(\"No. of features = %d\"%(p_human['max_features']))\n"
   ]
  },
  {
   "cell_type": "code",
   "execution_count": 46,
   "id": "529aa0c9",
   "metadata": {},
   "outputs": [],
   "source": [
    "\n",
    "sub_human={}\n",
    "for i in range(len(Control_human)):\n",
    "    sub_human[Control_human[i]]=Total_dataframe_human.iloc[i*p['duration']*int(60/p['epoch_len']):i*p['duration']*int(60/p['epoch_len'])+p['duration']*int(60/p['epoch_len'])]\n",
    "for j in range(len(Tbi_human)):\n",
    "    sub_human[Tbi_human[j]]=Total_dataframe_human.iloc[(i+j+1)*p['duration']*int(60/p['epoch_len']):(i+j+1)*p['duration']*int(60/p['epoch_len'])+p['duration']*int(60/p['epoch_len'])]\n"
   ]
  },
  {
   "cell_type": "code",
   "execution_count": 47,
   "id": "789b8650",
   "metadata": {},
   "outputs": [],
   "source": [
    "sub_mice={}\n",
    "for i in range(len(Control_mice)):\n",
    "    sub_mice[Control_mice[i]]=Total_dataframe_mice.iloc[i*p_mice['duration']*int(60/p_mice['epoch_len']):i*p_mice['duration']*int(60/p_mice['epoch_len'])+p_mice['duration']*int(60/p_mice['epoch_len'])]\n",
    "for j in range(len(Tbi_mice)):\n",
    "    sub_mice[Tbi_mice[j]]=Total_dataframe_mice.iloc[(i+j+1)*p_mice['duration']*int(60/p_mice['epoch_len']):(i+j+1)*p_mice['duration']*int(60/p_mice['epoch_len'])+p_mice['duration']*int(60/p_mice['epoch_len'])]\n"
   ]
  },
  {
   "cell_type": "markdown",
   "id": "5bbf896b",
   "metadata": {},
   "source": [
    "# Apply machine learning"
   ]
  },
  {
   "cell_type": "code",
   "execution_count": 48,
   "id": "08424016",
   "metadata": {},
   "outputs": [],
   "source": [
    "from Random_sampling import RS\n",
    "from Independent_validation import IV"
   ]
  },
  {
   "cell_type": "code",
   "execution_count": 49,
   "id": "adc59b07",
   "metadata": {},
   "outputs": [
    {
     "name": "stdout",
     "output_type": "stream",
     "text": [
      "No. of features = 26\n",
      "=======================================================================\n",
      "Random Sampling 10 fold CV\n",
      "RS dtree accuracy 95.83 (+/-2.15)\n",
      "RS k5 accuracy 100.00 (+/-0.00)\n",
      "RS k11 accuracy 99.86 (+/-0.42)\n",
      "RS k19 accuracy 99.86 (+/-0.42)\n",
      "RS RF accuracy 99.86 (+/-0.42)\n",
      "RS SVM accuracy 100.00 (+/-0.00)\n",
      "RS XGBoost accuracy 98.89 (+/-1.04)\n",
      "=======================================================================\n"
     ]
    }
   ],
   "source": [
    "Random_training,Random_Y = RS(Total_dataframe_human,p)"
   ]
  },
  {
   "cell_type": "code",
   "execution_count": 50,
   "id": "e786acfb",
   "metadata": {},
   "outputs": [
    {
     "name": "stdout",
     "output_type": "stream",
     "text": [
      "No. of features = 8\n",
      "=======================================================================\n",
      "Random Sampling 10 fold CV\n",
      "RS dtree accuracy 98.75 (+/-3.75)\n",
      "RS k5 accuracy 100.00 (+/-0.00)\n",
      "RS k11 accuracy 100.00 (+/-0.00)\n",
      "RS k19 accuracy 100.00 (+/-0.00)\n",
      "RS RF accuracy 100.00 (+/-0.00)\n",
      "RS SVM accuracy 100.00 (+/-0.00)\n",
      "RS XGBoost accuracy 98.75 (+/-3.75)\n",
      "=======================================================================\n"
     ]
    }
   ],
   "source": [
    "Random_training,Random_Y = RS(Total_dataframe_mice,p_mice)"
   ]
  },
  {
   "cell_type": "code",
   "execution_count": 51,
   "id": "28b0f98b",
   "metadata": {
    "scrolled": true
   },
   "outputs": [
    {
     "name": "stdout",
     "output_type": "stream",
     "text": [
      "Individual validation (Leave 2 out)\n",
      "No. of iterations = 3\n",
      "0\n",
      "(600, 27)\n",
      "1\n",
      "(600, 27)\n",
      "2\n",
      "(600, 27)\n",
      "------------------------------------------------------------------------\n",
      "Over all Dtree Accuracy: 78.44\n",
      "Over all RF Accuracy: 81.67 \n",
      "Over all KNN k= 5 Accuracy: 81.39\n",
      "Over all KNN k= 11 Accuracy: 81.39 \n",
      "Over all KNN k= 19 Accuracy: 81.67\n",
      "Over all SVM Accuracy: 81.39\n",
      "Over all NN Accuracy: 81.06 \n",
      "Over all XGB Accuracy: 82.50 \n",
      "===========================================================\n"
     ]
    }
   ],
   "source": [
    "dtree,k1,k1_val,k2,k2_val,k3,k3_val,rf,nn,svecm,xgb,count_fea,Training,num_iter = IV(Total_dataframe_human,sub_human,Control_human,Tbi_human,p)\n",
    "print(\"------------------------------------------------------------------------\")\n",
    "print(\"Over all Dtree Accuracy: %0.2f\" % (np.mean(dtree[0,:])))\n",
    "print(\"Over all RF Accuracy: %0.2f \" %(np.mean(rf[0,:])))\n",
    "print(\"Over all KNN k= %d Accuracy: %0.2f\" % (k1_val,np.mean(k1[0,:])))\n",
    "print(\"Over all KNN k= %d Accuracy: %0.2f \" %(k2_val,np.mean(k2[0,:])))\n",
    "print(\"Over all KNN k= %d Accuracy: %0.2f\" %(k3_val,np.mean(k3[0,:])))\n",
    "print(\"Over all SVM Accuracy: %0.2f\" %(np.mean(svecm[0,:])))\n",
    "print(\"Over all NN Accuracy: %0.2f \" %(np.mean(nn[0,:])))\n",
    "print(\"Over all XGB Accuracy: %0.2f \" %(np.mean(xgb[0,:])))\n",
    "print(\"===========================================================\")"
   ]
  },
  {
   "cell_type": "code",
   "execution_count": 53,
   "id": "4a33b861",
   "metadata": {
    "scrolled": true
   },
   "outputs": [
    {
     "name": "stdout",
     "output_type": "stream",
     "text": [
      "Individual validation (Leave 2 out)\n",
      "No. of iterations = 2\n",
      "0\n",
      "(64, 9)\n",
      "1\n",
      "(64, 9)\n",
      "------------------------------------------------------------------------\n",
      "Over all Dtree Accuracy: 99.38\n",
      "Over all RF Accuracy: 100.00 \n",
      "Over all KNN k= 5 Accuracy: 100.00\n",
      "Over all KNN k= 11 Accuracy: 100.00 \n",
      "Over all KNN k= 19 Accuracy: 100.00\n",
      "Over all SVM Accuracy: 100.00\n",
      "Over all NN Accuracy: 100.00 \n",
      "Over all XGB Accuracy: 100.00 \n",
      "===========================================================\n"
     ]
    }
   ],
   "source": [
    "dtree,k1,k1_val,k2,k2_val,k3,k3_val,rf,nn,svecm,xgb,count_fea,Training,num_iter = IV(Total_dataframe_mice,sub_mice,Control_mice,Tbi_mice,p_mice)\n",
    "print(\"------------------------------------------------------------------------\")\n",
    "print(\"Over all Dtree Accuracy: %0.2f\" % (np.mean(dtree[0,:])))\n",
    "print(\"Over all RF Accuracy: %0.2f \" %(np.mean(rf[0,:])))\n",
    "print(\"Over all KNN k= %d Accuracy: %0.2f\" % (k1_val,np.mean(k1[0,:])))\n",
    "print(\"Over all KNN k= %d Accuracy: %0.2f \" %(k2_val,np.mean(k2[0,:])))\n",
    "print(\"Over all KNN k= %d Accuracy: %0.2f\" %(k3_val,np.mean(k3[0,:])))\n",
    "print(\"Over all SVM Accuracy: %0.2f\" %(np.mean(svecm[0,:])))\n",
    "print(\"Over all NN Accuracy: %0.2f \" %(np.mean(nn[0,:])))\n",
    "print(\"Over all XGB Accuracy: %0.2f \" %(np.mean(xgb[0,:])))\n",
    "print(\"===========================================================\")"
   ]
  },
  {
   "cell_type": "code",
   "execution_count": null,
   "id": "4a34ffdd",
   "metadata": {},
   "outputs": [],
   "source": []
  },
  {
   "cell_type": "code",
   "execution_count": null,
   "id": "44f57708",
   "metadata": {},
   "outputs": [],
   "source": []
  }
 ],
 "metadata": {
  "colab": {
   "name": "load_both.ipynb",
   "provenance": []
  },
  "kernelspec": {
   "display_name": "Python 3",
   "language": "python",
   "name": "python3"
  },
  "language_info": {
   "codemirror_mode": {
    "name": "ipython",
    "version": 3
   },
   "file_extension": ".py",
   "mimetype": "text/x-python",
   "name": "python",
   "nbconvert_exporter": "python",
   "pygments_lexer": "ipython3",
   "version": "3.8.8"
  },
  "vscode": {
   "interpreter": {
    "hash": "4e232e609c28bd36285b0505a36c6fca78464b9ec374cf6badb4e78c9fffa6f8"
   }
  }
 },
 "nbformat": 4,
 "nbformat_minor": 5
}
